{
 "cells": [
  {
   "cell_type": "code",
   "execution_count": null,
   "id": "759d2000",
   "metadata": {},
   "outputs": [
    {
     "name": "stdout",
     "output_type": "stream",
     "text": [
      " * Serving Flask app \"__main__\" (lazy loading)\n",
      " * Environment: production\n",
      "\u001b[31m   WARNING: This is a development server. Do not use it in a production deployment.\u001b[0m\n",
      "\u001b[2m   Use a production WSGI server instead.\u001b[0m\n",
      " * Debug mode: off\n"
     ]
    },
    {
     "name": "stderr",
     "output_type": "stream",
     "text": [
      " * Running on http://127.0.0.1:5000/ (Press CTRL+C to quit)\n",
      "127.0.0.1 - - [15/Feb/2022 13:43:42] \"GET / HTTP/1.1\" 200 -\n",
      "127.0.0.1 - - [15/Feb/2022 13:43:43] \"GET /favicon.ico HTTP/1.1\" 200 -\n",
      "127.0.0.1 - - [15/Feb/2022 13:43:48] \"GET /edivan HTTP/1.1\" 200 -\n",
      "127.0.0.1 - - [15/Feb/2022 13:43:48] \"GET /favicon.ico HTTP/1.1\" 200 -\n",
      "127.0.0.1 - - [15/Feb/2022 13:44:00] \"GET /Acer HTTP/1.1\" 200 -\n",
      "127.0.0.1 - - [15/Feb/2022 13:44:01] \"GET /favicon.ico HTTP/1.1\" 200 -\n"
     ]
    }
   ],
   "source": [
    "# API RESTful\n",
    "\n",
    "from selenium import webdriver\n",
    "from selenium.webdriver.common.by import By\n",
    "from flask import Flask\n",
    "\n",
    "driver = webdriver.Chrome()\n",
    "driver.get(\"https://webscraper.io/test-sites/e-commerce/allinone/computers/laptops\")\n",
    "\n",
    "# Atribuir o conjunto de elementos da página as variaveis\n",
    "Notebooks = driver.find_elements(By.CLASS_NAME,\"title\") #TITULO NOTEBOOKS\n",
    "Precos = driver.find_elements(By.CLASS_NAME,\"price\") # PREÇO NOTEBOOKS\n",
    "Descricao = driver.find_elements(By.CLASS_NAME,\"description\") # DESCRICAO\n",
    "\n",
    "#LISTAS QUE IRÃO RECEBER OS RESPECTIVOS DADOS OBTIDOS\n",
    "listaNot = []\n",
    "ListaPrecos = []\n",
    "ListaDescricao = []\n",
    "\n",
    "#FOR QUE IRÁ PERCORRER A LISTA E ADICIONAR A INFORMAÇÃO ÀS VARIAVEIS\n",
    "for i in range(len(Notebooks)):\n",
    "    listaNot.append(Notebooks[i].text)\n",
    "    ListaPrecos.append(float((Precos[i].text).replace(\"$\",\"\")))\n",
    "    ListaDescricao.append(Descricao[i].text)\n",
    "\n",
    "\n",
    "tabela = {} # Dicionario que receberá todos os dados de acordo as chaves declaradas abaixo\n",
    "tabela[\"Modelo\"] = listaNot\n",
    "tabela[\"Preco\"] = ListaPrecos\n",
    "tabela[\"Descricao\"] = ListaDescricao\n",
    "    \n",
    "\n",
    "#CRIAÇÃO DA API\n",
    "app = Flask(__name__)\n",
    "\n",
    "@app.route(\"/\") # RETORNA TODOS OS NOTEBOOKS CADASTRADOS\n",
    "def tabelaProdutos():\n",
    "    return tabela\n",
    "\n",
    "@app.route(\"/<marca>\") #RETORNA APENAS OS NOTEBOOKS DA MARCA SOLICITADA\n",
    "def produto(marca):\n",
    "    listaNotT = []\n",
    "    ListaPrecosT = []\n",
    "    ListaDescricaoT = []\n",
    "    tabela_marca = {}\n",
    "    for i in range(len(Notebooks)):\n",
    "        if marca in Notebooks[i].text :\n",
    "            listaNotT.append(Notebooks[i].text)\n",
    "            ListaPrecosT.append(float((Precos[i].text).replace(\"$\",\"\")))\n",
    "            ListaDescricaoT.append(Descricao[i].text)\n",
    "    tabela_marca[\"Modelo\"] = listaNotT\n",
    "    tabela_marca[\"Preco\"] = ListaPrecosT\n",
    "    tabela_marca[\"Descricao\"] = ListaDescricaoT\n",
    "    return tabela_marca\n",
    "        \n",
    "\n",
    "app.run()\n",
    "\n"
   ]
  },
  {
   "cell_type": "code",
   "execution_count": null,
   "id": "4b3bef13",
   "metadata": {},
   "outputs": [],
   "source": []
  },
  {
   "cell_type": "code",
   "execution_count": null,
   "id": "f2403783",
   "metadata": {},
   "outputs": [],
   "source": []
  }
 ],
 "metadata": {
  "kernelspec": {
   "display_name": "Python 3 (ipykernel)",
   "language": "python",
   "name": "python3"
  },
  "language_info": {
   "codemirror_mode": {
    "name": "ipython",
    "version": 3
   },
   "file_extension": ".py",
   "mimetype": "text/x-python",
   "name": "python",
   "nbconvert_exporter": "python",
   "pygments_lexer": "ipython3",
   "version": "3.9.7"
  }
 },
 "nbformat": 4,
 "nbformat_minor": 5
}
